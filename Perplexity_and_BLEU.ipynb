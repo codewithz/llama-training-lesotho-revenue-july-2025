{
 "cells": [
  {
   "cell_type": "code",
   "execution_count": null,
   "id": "a970fb25-2e79-428b-8761-b0b2ba4c31eb",
   "metadata": {},
   "outputs": [],
   "source": [
    "from transformers import GPT2LMHeadModel, GPT2Tokenizer\n",
    "import torch\n",
    "\n",
    "# Initialize model and tokenizer\n",
    "model_name = \"gpt2\"\n",
    "model = GPT2LMHeadModel.from_pretrained(model_name)\n",
    "tokenizer = GPT2Tokenizer.from_pretrained(model_name)\n",
    "\n",
    "# Input text for generation\n",
    "input_text = \"Research in Antarctica is\"\n",
    "\n",
    "# Tokenize input text\n",
    "inputs = tokenizer(input_text, return_tensors=\"pt\")\n",
    "input_ids = inputs['input_ids']\n",
    "\n",
    "# Generate text\n",
    "output = model.generate(input_ids, max_length=50, num_return_sequences=1)\n",
    "\n",
    "# Decode the generated text\n",
    "generated_text = tokenizer.decode(output[0], skip_special_tokens=True)\n",
    "print(\"Generated Text: \", generated_text)\n",
    "\n",
    "# Calculate Perplexity\n",
    "log_likelihood = model(input_ids, labels=input_ids).loss\n",
    "perplexity = torch.exp(log_likelihood)\n",
    "print(\"Perplexity: \", perplexity.item())\n"
   ]
  },
  {
   "cell_type": "code",
   "execution_count": null,
   "id": "d1f1a8e7-8242-45c5-9ab2-394122d0d641",
   "metadata": {},
   "outputs": [],
   "source": []
  }
 ],
 "metadata": {
  "kernelspec": {
   "display_name": "Python 3 (ipykernel)",
   "language": "python",
   "name": "python3"
  },
  "language_info": {
   "codemirror_mode": {
    "name": "ipython",
    "version": 3
   },
   "file_extension": ".py",
   "mimetype": "text/x-python",
   "name": "python",
   "nbconvert_exporter": "python",
   "pygments_lexer": "ipython3",
   "version": "3.12.3"
  }
 },
 "nbformat": 4,
 "nbformat_minor": 5
}
