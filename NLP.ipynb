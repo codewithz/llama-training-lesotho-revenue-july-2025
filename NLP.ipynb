{
 "cells": [
  {
   "cell_type": "code",
   "execution_count": 1,
   "id": "2220d088-94bb-4157-8b41-e0b9faf797f7",
   "metadata": {},
   "outputs": [],
   "source": [
    "import re"
   ]
  },
  {
   "cell_type": "code",
   "execution_count": 3,
   "id": "d1e2e53e-4005-42d4-9883-d568ac8f2ea6",
   "metadata": {},
   "outputs": [],
   "source": [
    "my_string=\"Hello there ! How are you doing? This is a simple test. Let see how it works.\""
   ]
  },
  {
   "cell_type": "code",
   "execution_count": 5,
   "id": "99dd207f-d7bf-4ec7-a565-b9f8962dbc63",
   "metadata": {},
   "outputs": [],
   "source": [
    "#1. Match the sentence endinf [periods,exclamation or question marks]\n",
    "\n",
    "sentence_endings=r\"[.?!]\""
   ]
  },
  {
   "cell_type": "code",
   "execution_count": 9,
   "id": "79558fdd-9766-49e4-957f-56556cfa49a2",
   "metadata": {},
   "outputs": [
    {
     "name": "stdout",
     "output_type": "stream",
     "text": [
      "Split on Sentence Endings:\n",
      "['Hello there ', ' How are you doing', ' This is a simple test', ' Let see how it works', '']\n"
     ]
    }
   ],
   "source": [
    "# Split my_string on sentence endings and print the result\n",
    "\n",
    "print(\"Split on Sentence Endings:\")\n",
    "print(re.split(sentence_endings,my_string))\n"
   ]
  },
  {
   "cell_type": "code",
   "execution_count": 11,
   "id": "1854f680-5cfc-4ea7-971c-8cd2a1cf38a9",
   "metadata": {},
   "outputs": [
    {
     "name": "stdout",
     "output_type": "stream",
     "text": [
      "Capitalized Words:\n",
      "['Hello', 'How', 'This', 'Let']\n"
     ]
    }
   ],
   "source": [
    "#Find all the capitalized words in my_string\n",
    "\n",
    "capitalized_words=r\"[A-Z]\\w+\"\n",
    "print(\"Capitalized Words:\")\n",
    "print(re.findall(capitalized_words,my_string))\n"
   ]
  },
  {
   "cell_type": "code",
   "execution_count": 13,
   "id": "146070a1-5884-42fd-8063-9813ef8deb90",
   "metadata": {},
   "outputs": [
    {
     "name": "stdout",
     "output_type": "stream",
     "text": [
      "Split on Spaces\n",
      "['Hello', 'there', '!', 'How', 'are', 'you', 'doing?', 'This', 'is', 'a', 'simple', 'test.', 'Let', 'see', 'how', 'it', 'works.']\n"
     ]
    }
   ],
   "source": [
    "#Split the string on space and print\n",
    "\n",
    "spaces=r\"\\s+\"\n",
    "print(\"Split on Spaces\")\n",
    "print(re.split(spaces,my_string))"
   ]
  },
  {
   "cell_type": "code",
   "execution_count": 19,
   "id": "a8b464d5-3b00-45ae-829c-ae82322d6832",
   "metadata": {},
   "outputs": [
    {
     "name": "stderr",
     "output_type": "stream",
     "text": [
      "[nltk_data] Downloading package punkt to\n",
      "[nltk_data]     C:\\Users\\VICTUS\\AppData\\Roaming\\nltk_data...\n",
      "[nltk_data]   Unzipping tokenizers\\punkt.zip.\n"
     ]
    },
    {
     "name": "stdout",
     "output_type": "stream",
     "text": [
      "['This is first sentence.', \"Here's the second sentence!\", 'Is this a third one?', 'The fourth sentence follows.']\n"
     ]
    }
   ],
   "source": [
    "#Tokenization\n",
    "import nltk\n",
    "from nltk.tokenize import sent_tokenize\n",
    "from nltk.tokenize import word_tokenize\n",
    "\n",
    "nltk.download(\"punkt\")\n",
    "\n",
    "scene_one =\"This is first sentence. Here's the second sentence! Is this a third one? The fourth sentence follows.\"\n",
    "\n",
    "# Split the scene into sentence \n",
    "\n",
    "sentences=sent_tokenize(scene_one)\n",
    "print(sentences)\n"
   ]
  },
  {
   "cell_type": "code",
   "execution_count": 21,
   "id": "f506da01-bd85-475d-8e8d-6b85963931b6",
   "metadata": {},
   "outputs": [
    {
     "name": "stdout",
     "output_type": "stream",
     "text": [
      "['The', 'fourth', 'sentence', 'follows', '.']\n"
     ]
    }
   ],
   "source": [
    "tokenized_sentence=word_tokenize(sentences[3])\n",
    "print(tokenized_sentence)"
   ]
  },
  {
   "cell_type": "code",
   "execution_count": 23,
   "id": "33e9e4ff-612f-4110-9228-a113342e42ec",
   "metadata": {},
   "outputs": [
    {
     "name": "stdout",
     "output_type": "stream",
     "text": [
      "{'is', 'follows', 'third', 'This', 'the', '?', 'Here', 'The', 'first', 'a', 'sentence', 'one', '.', '!', 'second', \"'s\", 'fourth', 'this', 'Is'}\n"
     ]
    }
   ],
   "source": [
    "unique_tokens=set(word_tokenize(scene_one))\n",
    "print(unique_tokens)"
   ]
  },
  {
   "cell_type": "code",
   "execution_count": 25,
   "id": "b6f3d34d-9851-46a3-b990-a62bbe5ac2d0",
   "metadata": {},
   "outputs": [
    {
     "name": "stdout",
     "output_type": "stream",
     "text": [
      "35 41\n"
     ]
    }
   ],
   "source": [
    "# I want to search the word 'second' in the string \n",
    "\n",
    "\n",
    "match =re.search(\"second\",scene_one)\n",
    "\n",
    "print(match.start(),match.end())"
   ]
  },
  {
   "cell_type": "code",
   "execution_count": 29,
   "id": "7ef8111a-9ddd-4fd3-9cfc-90b58b502b2d",
   "metadata": {},
   "outputs": [
    {
     "name": "stdout",
     "output_type": "stream",
     "text": [
      "All Words:\n",
      "['Ich', 'liebe', 'programmieren', '!', '🖥️', 'Es', 'ist', 'sehr', 'spannend', '.', '👍', 'Let', \"'s\", 'go', '!', '🚀']\n"
     ]
    }
   ],
   "source": [
    "import nltk\n",
    "from nltk.tokenize import word_tokenize,regexp_tokenize\n",
    "\n",
    "german_text = \"Ich liebe programmieren! 🖥️ Es ist sehr spannend. 👍 Let's go! 🚀\"\n",
    "\n",
    "all_words=word_tokenize(german_text)\n",
    "print(\"All Words:\")\n",
    "print(all_words)"
   ]
  },
  {
   "cell_type": "code",
   "execution_count": 31,
   "id": "54591f24-3598-4115-8e08-dbdf417b70e2",
   "metadata": {},
   "outputs": [
    {
     "name": "stdout",
     "output_type": "stream",
     "text": [
      "\n",
      "Capital words:\n",
      "['Ich', 'Es', 'Let']\n"
     ]
    }
   ],
   "source": [
    "# Tokenize and print only capital words (including German characters like 'Ü')\n",
    "capital_words = r\"[A-ZÜ]\\w+\"  # Matches words starting with an uppercase letter (including German umlauts)\n",
    "print(\"\\nCapital words:\")\n",
    "print(regexp_tokenize(german_text, capital_words))"
   ]
  },
  {
   "cell_type": "code",
   "execution_count": 33,
   "id": "7827258e-cc31-447f-b28b-d28355cc1eed",
   "metadata": {},
   "outputs": [
    {
     "name": "stdout",
     "output_type": "stream",
     "text": [
      "\n",
      "Emojis:\n",
      "['🖥', '👍', '🚀']\n"
     ]
    }
   ],
   "source": [
    "# Tokenize and print only emojis\n",
    "emoji = r\"[\\U0001F300-\\U0001F5FF|\\U0001F600-\\U0001F64F|\\U0001F680-\\U0001F6FF|\\u2600-\\u26FF\\u2700-\\u27BF]\"  # Emoji Unicode ranges\n",
    "print(\"\\nEmojis:\")\n",
    "print(regexp_tokenize(german_text, emoji))"
   ]
  },
  {
   "cell_type": "code",
   "execution_count": null,
   "id": "a5964117-da47-4116-bc71-9a9506d86d03",
   "metadata": {},
   "outputs": [],
   "source": []
  },
  {
   "cell_type": "code",
   "execution_count": 40,
   "id": "9149c285-bf0c-42f3-88cd-c8f7706594c8",
   "metadata": {},
   "outputs": [
    {
     "data": {
      "image/png": "[encoded data removed]",
      "text/plain": [
       "<Figure size 640x480 with 1 Axes>"
      ]
     },
     "metadata": {},
     "output_type": "display_data"
    }
   ],
   "source": [
    "import re\n",
    "import nltk\n",
    "import matplotlib.pyplot as plt\n",
    "from nltk.tokenize import regexp_tokenize\n",
    "\n",
    "# Example script from the \"Holy Grail\" (replace with your own script)\n",
    "holy_grail = \"\"\"KING ARTHUR:  We are the knights who say Ni!\n",
    "PATSY:  Ni!\n",
    "KING ARTHUR:  We seek the Holy Grail!\n",
    "SIR LANCELOT:  The Holy Grail?\"\"\"\n",
    "\n",
    "# Split the script into lines\n",
    "lines = holy_grail.split('\\n')\n",
    "\n",
    "# Replace all speaker lines using regex\n",
    "pattern = r\"[A-Z]{2,}(\\s)?(#\\d)?([A-Z]{2,})?:\"  # Matches speaker names (uppercase letters followed by a colon)\n",
    "lines = [re.sub(pattern, '', l) for l in lines]\n",
    "\n",
    "# Tokenize each line\n",
    "tokenized_lines = [regexp_tokenize(s, r\"\\w+\") for s in lines]\n",
    "\n",
    "# Make a frequency list of lengths (number of words in each line)\n",
    "line_num_words = [len(t_line) for t_line in tokenized_lines]\n",
    "\n",
    "# Plot a histogram of the line lengths\n",
    "plt.hist(line_num_words, bins=range(1, max(line_num_words) + 1), edgecolor='black')\n",
    "\n",
    "# Add titles and labels\n",
    "plt.title(\"Distribution of Line Lengths in the Script\")\n",
    "plt.xlabel(\"Number of Words in Line\")\n",
    "plt.ylabel(\"Frequency\")\n",
    "\n",
    "# Show the plot\n",
    "plt.show()\n"
   ]
  },
  {
   "cell_type": "code",
   "execution_count": 42,
   "id": "490e70f0-0440-4bc1-94f6-6b311451c5a6",
   "metadata": {},
   "outputs": [],
   "source": [
    "# 1. [A-Z]{2,}\n",
    "# [A-Z]: This matches any uppercase letter from A to Z.\n",
    "\n",
    "# {2,}: This quantifier specifies that the preceding pattern (uppercase letter) must appear at least 2 times. This ensures that only speaker names with two or more uppercase letters are matched (for example, \"KING\" but not \"A\").\n",
    "\n",
    "# 2. (\\s)?\n",
    "# \\s: This matches any whitespace character (spaces, tabs, or newlines).\n",
    "\n",
    "# ?: The question mark after (\\s) makes the whitespace optional. It means that there could be zero or one space after the speaker’s name before the colon. So, it matches both cases with or without a space after the name.\n",
    "\n",
    "# 3. (#\\d)?\n",
    "# #: Matches the literal character #.\n",
    "\n",
    "# \\d: Matches any digit (0-9).\n",
    "\n",
    "# ?: The question mark makes this entire part optional. So, it will match a hashtag followed by a number, such as #1, but it's not required for the match. This is useful in scripts where speaker names may optionally have a number (e.g., \"KING ARTHUR #1\").\n",
    "\n",
    "# 4. ([A-Z]{2,})?\n",
    "# [A-Z]{2,}: This part again matches two or more uppercase letters (a speaker's name).\n",
    "\n",
    "# ?: The question mark makes this entire part optional. It allows for cases where the speaker's name could consist of just one group of uppercase letters (without a second set of uppercase letters after a space or number). This handles cases where the name is followed by only one word (e.g., \"KING ARTHUR\") but might also match something like \"KING ARTHUR THE GREAT\".\n",
    "\n",
    "# 5. :\n",
    "# The literal colon : at the end ensures that this pattern matches a speaker's name followed by a colon, which is common in scripts (e.g., KING ARTHUR:).\n",
    "\n",
    "# Summary of Pattern:\n",
    "# This regular expression is designed to match the following formats:\n",
    "\n",
    "# A speaker's name in uppercase with at least two letters, followed by:\n",
    "\n",
    "# Optionally a space,\n",
    "\n",
    "# Optionally a hashtag and a number (e.g., #1),\n",
    "\n",
    "# Optionally more uppercase letters (e.g., for extended names or titles),\n",
    "\n",
    "# Ending with a colon.\n",
    "\n",
    "# Examples of Matches:\n",
    "# KING ARTHUR:\n",
    "\n",
    "# KING ARTHUR #1:\n",
    "\n",
    "# LADY GUINEVERE:\n",
    "\n",
    "# SIR LANCELOT #2:\n",
    "\n",
    "# Non-matching Examples:\n",
    "# king arthur: (lowercase letters won't match).\n",
    "\n",
    "# AR:\n",
    "\n",
    "# K:"
   ]
  },
  {
   "cell_type": "code",
   "execution_count": 44,
   "id": "c4a6a819-1385-4117-a97a-5c9798e42213",
   "metadata": {},
   "outputs": [],
   "source": [
    "\n",
    "# Splitting the Script into Lines:\n",
    "\n",
    "# lines = holy_grail.split('\\n')\n",
    "# This line splits the entire script of \"holy_grail\" into individual lines using the newline character ('\\n'). This creates a list called lines, where each element is a line from the script.\n",
    "\n",
    "# Replacing Speaker Prompts:\n",
    "\n",
    "# pattern = \"[A-Z]{2,}(\\s)?(#\\d)?([A-Z]{2,})?:\"\n",
    "# lines = [re.sub(pattern, '', l) for l in lines]\n",
    "# Here, a regular expression pattern is defined to match speaker prompts like \"ARTHUR:\" or \"SOLDIER #1:\". The pattern looks for uppercase letters, optionally followed by a space and a number, and ending with a colon. The re.sub() function is used within a list comprehension to replace these prompts with an empty string in each line. This effectively removes the speaker names from the script lines.\n",
    "\n",
    "# Tokenizing Each Line:\n",
    "\n",
    "# tokenized_lines = [regexp_tokenize(s, \"\\w+\") for s in lines]\n",
    "# This line uses a list comprehension to tokenize each line in lines. The regexp_tokenize() function is used with the pattern \"\\w+\", which matches sequences of word characters (letters, digits, and underscores). This results in a list of lists, where each inner list contains the words from a line.\n",
    "\n",
    "# Creating a List of Line Lengths:\n",
    "\n",
    "# line_num_words = [len(t_line) for t_line in tokenized_lines]\n",
    "# Another list comprehension is used here to calculate the number of words in each tokenized line. The len() function is applied to each list of tokens (t_line) to get the count of words, resulting in a list called line_num_words that contains the length of each line in terms of word count.\n",
    "\n",
    "# Plotting a Histogram:\n",
    "\n",
    "# plt.hist(line_num_words)\n",
    "# plt.show()\n",
    "# Finally, a histogram of the line lengths is plotted using plt.hist(), which takes line_num_words as input. The plt.show() function is called to display the plot. This visualizes the distribution of\n",
    "\n",
    "\n"
   ]
  },
  {
   "cell_type": "code",
   "execution_count": null,
   "id": "eee95ed6-609a-4108-a476-6f42db2248f9",
   "metadata": {},
   "outputs": [],
   "source": []
  },
  {
   "cell_type": "code",
   "execution_count": 49,
   "id": "8b88915d-9444-413e-bdb0-b537fd2deb10",
   "metadata": {},
   "outputs": [
    {
     "name": "stdout",
     "output_type": "stream",
     "text": [
      "Counter({'The': 2, 'cat': 2, 'the': 2, '.': 2, 'sat': 1, 'on': 1, 'mat': 1, 'is': 1, 'in': 1, 'box': 1})\n",
      "2 most common tokens [('The', 2), ('cat', 2)]\n"
     ]
    }
   ],
   "source": [
    "from collections import Counter\n",
    "from nltk.tokenize import word_tokenize\n",
    "\n",
    "text=\"The cat sat on the mat. The cat is in the box.\"\n",
    "\n",
    "# Tokenize the text \n",
    "tokens=word_tokenize(text)\n",
    "\n",
    "# COunters \n",
    "token_counts=Counter(tokens)\n",
    "\n",
    "print(token_counts)\n",
    "\n",
    "most_common_tokens=token_counts.most_common(2)\n",
    "print(\"2 most common tokens\", most_common_tokens)"
   ]
  },
  {
   "cell_type": "code",
   "execution_count": 61,
   "id": "0ee73403-cff1-4f4c-aef2-51440e42c18e",
   "metadata": {},
   "outputs": [
    {
     "name": "stdout",
     "output_type": "stream",
     "text": [
      "Tokens: ['I', 'reached', 'out', 'to', 'support', 'and', 'got', 'a', 'helpful', 'response', 'within', 'minutes', '!', '!', '!', 'Very', '#', 'impressed']\n",
      "Filtered: ['reached', 'support', 'got', 'helpful', 'response', 'within', 'minutes', '!', '!', '!', '#', 'impressed']\n"
     ]
    },
    {
     "name": "stderr",
     "output_type": "stream",
     "text": [
      "[nltk_data] Downloading package stopwords to\n",
      "[nltk_data]     C:\\Users\\VICTUS\\AppData\\Roaming\\nltk_data...\n",
      "[nltk_data]   Package stopwords is already up-to-date!\n"
     ]
    }
   ],
   "source": [
    "# Stop words \n",
    "\n",
    "import nltk\n",
    "from nltk.tokenize import word_tokenize\n",
    "from nltk.corpus import stopwords\n",
    "\n",
    "nltk.download('stopwords')\n",
    "\n",
    "# Example feedback text\n",
    "feedback = \"I reached out to support and got a helpful response within minutes!!! Very #impressed\"\n",
    "\n",
    "tokens= word_tokenize(feedback)\n",
    "print(\"Tokens:\",tokens)\n",
    "stop_words=stopwords.words('english')\n",
    "# print(\"Stop Words:\",stop_words)\n",
    "\n",
    "# Remove the stop words\n",
    "filtered_tokens= [word for word in tokens if word.lower() not in stop_words]\n",
    "\n",
    "print(\"Filtered:\",filtered_tokens)\n",
    "\n"
   ]
  },
  {
   "cell_type": "code",
   "execution_count": 67,
   "id": "001516f3-a693-4974-a3a0-e3456db7b8eb",
   "metadata": {},
   "outputs": [
    {
     "name": "stdout",
     "output_type": "stream",
     "text": [
      "['reached', 'support', 'got', 'helpful', 'response', 'within', 'minutes', 'impressed']\n"
     ]
    }
   ],
   "source": [
    "# Removing Punctuations \n",
    "\n",
    "import string\n",
    "\n",
    "filtered_tokens = ['reached', 'support', 'got', 'helpful', 'response', 'within', 'minutes', '!', '!', '!', '#', 'impressed']\n",
    "\n",
    "clean_tokens= [word for word in filtered_tokens if word not in string.punctuation]\n",
    "\n",
    "print(clean_tokens)"
   ]
  },
  {
   "cell_type": "code",
   "execution_count": 71,
   "id": "a4dfb6bc-5ba4-4145-b04a-0ff8d2fc87f6",
   "metadata": {},
   "outputs": [],
   "source": [
    "review = \"I have been FLYING a lot lately and the Flights just keep getting DELAYED. Honestly, traveling for WORK gets exhausting with endless delays, but every trip teaches you something new!\""
   ]
  },
  {
   "cell_type": "code",
   "execution_count": 73,
   "id": "ec05e9c9-cebc-4ee9-8d30-d3c5e0a8c66e",
   "metadata": {},
   "outputs": [
    {
     "name": "stdout",
     "output_type": "stream",
     "text": [
      "['flying', 'lot', 'lately', 'flights', 'keep', 'getting', 'delayed', 'honestly', 'traveling', 'work', 'gets', 'exhausting', 'endless', 'delays', 'every', 'trip', 'teaches', 'something', 'new']\n"
     ]
    }
   ],
   "source": [
    "# Lowercase the review\n",
    "lower_text = review.lower()\n",
    "# Tokenize the lower_text into words\n",
    "tokens = word_tokenize(lower_text)\n",
    "# Remove stop words and punctuation\n",
    "clean_tokens = [word for word in tokens if word not in stop_words and word not in string.punctuation]\n",
    "\n",
    "print(clean_tokens)"
   ]
  },
  {
   "cell_type": "code",
   "execution_count": 77,
   "id": "06b0e3f0-ed34-44c3-90f2-65055af627ed",
   "metadata": {},
   "outputs": [
    {
     "name": "stdout",
     "output_type": "stream",
     "text": [
      "['fli', 'lot', 'late', 'flight', 'keep', 'get', 'delay', 'honestli', 'travel', 'work', 'get', 'exhaust', 'endless', 'delay', 'everi', 'trip', 'teach', 'someth', 'new']\n"
     ]
    }
   ],
   "source": [
    "from nltk.stem import PorterStemmer\n",
    "\n",
    "stemmer=PorterStemmer()\n",
    "\n",
    "stemmed_tokens=[stemmer.stem(word) for word in clean_tokens]\n",
    "\n",
    "print(stemmed_tokens)"
   ]
  },
  {
   "cell_type": "code",
   "execution_count": 81,
   "id": "a6893ffd-99ea-45ba-b758-4f36dbcd0a09",
   "metadata": {},
   "outputs": [
    {
     "name": "stderr",
     "output_type": "stream",
     "text": [
      "[nltk_data] Downloading package wordnet to\n",
      "[nltk_data]     C:\\Users\\VICTUS\\AppData\\Roaming\\nltk_data...\n"
     ]
    },
    {
     "data": {
      "text/plain": [
       "True"
      ]
     },
     "execution_count": 81,
     "metadata": {},
     "output_type": "execute_result"
    }
   ],
   "source": [
    "from nltk.stem import WordNetLemmatizer\n",
    "\n",
    "nltk.download('wordnet')"
   ]
  },
  {
   "cell_type": "code",
   "execution_count": 83,
   "id": "92852b02-7baf-4938-9d15-34ddca734905",
   "metadata": {},
   "outputs": [
    {
     "name": "stdout",
     "output_type": "stream",
     "text": [
      "['flying', 'lot', 'lately', 'flight', 'keep', 'getting', 'delayed', 'honestly', 'traveling', 'work', 'get', 'exhausting', 'endless', 'delay', 'every', 'trip', 'teach', 'something', 'new']\n"
     ]
    }
   ],
   "source": [
    "lemmetizer=WordNetLemmatizer()\n",
    "\n",
    "lemmatized_tokens=[lemmetizer.lemmatize(word) for word in clean_tokens]\n",
    "\n",
    "print(lemmatized_tokens)"
   ]
  },
  {
   "cell_type": "code",
   "execution_count": 85,
   "id": "18f2b39b-dc75-48c1-b753-a711561bedf7",
   "metadata": {},
   "outputs": [
    {
     "name": "stdout",
     "output_type": "stream",
     "text": [
      "['fly', 'lot', 'lately', 'flight', 'keep', 'get', 'delay', 'honestly', 'travel', 'work', 'get', 'exhaust', 'endless', 'delay', 'every', 'trip', 'teach', 'something', 'new']\n"
     ]
    }
   ],
   "source": [
    "lemmatized_tokens_v=[lemmetizer.lemmatize(word,pos='v') for word in clean_tokens]\n",
    "print(lemmatized_tokens_v)"
   ]
  },
  {
   "cell_type": "code",
   "execution_count": null,
   "id": "34ec7254-035a-45e6-abff-e81de45ac15f",
   "metadata": {},
   "outputs": [],
   "source": []
  },
  {
   "cell_type": "code",
   "execution_count": null,
   "id": "a8072b1c-516a-4767-95da-5f831440b3ea",
   "metadata": {},
   "outputs": [],
   "source": []
  },
  {
   "cell_type": "code",
   "execution_count": null,
   "id": "1704105d-59ab-433c-bf38-03ef9a6edb73",
   "metadata": {},
   "outputs": [],
   "source": []
  },
  {
   "cell_type": "code",
   "execution_count": 90,
   "id": "90b46ee8-5971-47b5-8411-7505d750df3b",
   "metadata": {},
   "outputs": [],
   "source": [
    "#Bag of Words \n",
    "\n"
   ]
  },
  {
   "cell_type": "code",
   "execution_count": 106,
   "id": "1ebfff0a-c93e-47f6-9ddd-4c555535c20f",
   "metadata": {},
   "outputs": [],
   "source": [
    "def preprocess(text):\n",
    "    #Lowercase, Tokenize and Remove Punctuations\n",
    "    text=text.lower()\n",
    "    tokens= word_tokenize(text)\n",
    "    tokens= [word for word in tokens if word.isalpha()]\n",
    "    return \" \".join(tokens)\n",
    "    "
   ]
  },
  {
   "cell_type": "code",
   "execution_count": 108,
   "id": "88bc0a05-9294-4cb0-831f-d8fcc7b4ff56",
   "metadata": {},
   "outputs": [],
   "source": [
    "reviews = [\n",
    "    \"The product is fantastic! It works like a charm.\",\n",
    "    \"I hated the product. It broke after one use.\",\n",
    "    \"Product was okay, not the best, but fine overall.\"\n",
    "]"
   ]
  },
  {
   "cell_type": "code",
   "execution_count": 110,
   "id": "dab90816-5547-4bb5-8b6f-d2743badb5ee",
   "metadata": {},
   "outputs": [],
   "source": [
    "cleaned_reviews=[preprocess(review) for review in reviews]"
   ]
  },
  {
   "cell_type": "code",
   "execution_count": 114,
   "id": "8f9275ce-4fb6-4b3a-bc31-e3970e7a6b30",
   "metadata": {},
   "outputs": [
    {
     "name": "stdout",
     "output_type": "stream",
     "text": [
      "['after' 'best' 'broke' 'but' 'charm' 'fantastic' 'fine' 'hated' 'is' 'it'\n",
      " 'like' 'not' 'okay' 'one' 'overall' 'product' 'the' 'use' 'was' 'works']\n"
     ]
    }
   ],
   "source": [
    "from sklearn.feature_extraction.text import CountVectorizer\n",
    "\n",
    "vectorizer=CountVectorizer()\n",
    "\n",
    "vectorizer.fit(cleaned_reviews)\n",
    "\n",
    "print(vectorizer.get_feature_names_out())"
   ]
  },
  {
   "cell_type": "code",
   "execution_count": 116,
   "id": "492a8b63-398b-41bc-ab8b-d0dfa59e581a",
   "metadata": {},
   "outputs": [],
   "source": [
    "bow_matrix=vectorizer.transform(cleaned_reviews)"
   ]
  },
  {
   "cell_type": "code",
   "execution_count": 120,
   "id": "34e4ea80-fa5a-4fea-918a-d82a91eb8cf8",
   "metadata": {},
   "outputs": [
    {
     "name": "stdout",
     "output_type": "stream",
     "text": [
      "[[0 0 0 0 1 1 0 0 1 1 1 0 0 0 0 1 1 0 0 1]\n",
      " [1 0 1 0 0 0 0 1 0 1 0 0 0 1 0 1 1 1 0 0]\n",
      " [0 1 0 1 0 0 1 0 0 0 0 1 1 0 1 1 1 0 1 0]]\n"
     ]
    }
   ],
   "source": [
    "print(bow_matrix.toarray())"
   ]
  },
  {
   "cell_type": "code",
   "execution_count": 122,
   "id": "2c80bd16-6816-45d6-9b1a-fb009126e159",
   "metadata": {},
   "outputs": [],
   "source": [
    "X=vectorizer.fit_transform(cleaned_reviews)"
   ]
  },
  {
   "cell_type": "code",
   "execution_count": 124,
   "id": "cbb87903-8333-4c32-889b-d79b9c8c2941",
   "metadata": {},
   "outputs": [
    {
     "data": {
      "text/plain": [
       "<3x20 sparse matrix of type '<class 'numpy.int64'>'\n",
       "\twith 25 stored elements in Compressed Sparse Row format>"
      ]
     },
     "execution_count": 124,
     "metadata": {},
     "output_type": "execute_result"
    }
   ],
   "source": [
    "X"
   ]
  },
  {
   "cell_type": "code",
   "execution_count": 126,
   "id": "ea4d7146-e5d6-4ba7-b849-0d6f5150da36",
   "metadata": {},
   "outputs": [],
   "source": [
    "import numpy as np\n",
    "\n",
    "word_counts=np.sum(X.toarray(),axis=0)"
   ]
  },
  {
   "cell_type": "code",
   "execution_count": 128,
   "id": "e51803e6-769f-4898-8c63-6ce8a76ebab5",
   "metadata": {},
   "outputs": [],
   "source": [
    "\n",
    "words=vectorizer.get_feature_names_out()\n",
    "\n"
   ]
  },
  {
   "cell_type": "code",
   "execution_count": 130,
   "id": "e8237b2f-68e1-4256-90a4-5076485dbf21",
   "metadata": {},
   "outputs": [],
   "source": [
    "# Function to get top ten words with their frequencies\n",
    "def get_top_ten(words, word_counts):\n",
    "    # Get the indices of the top 10 words based on frequency\n",
    "    top_indices = np.argsort(word_counts)[::-1][:10]\n",
    "    top_words = [words[i] for i in top_indices]\n",
    "    top_counts = word_counts[top_indices]\n",
    "    return top_words, top_counts"
   ]
  },
  {
   "cell_type": "code",
   "execution_count": 132,
   "id": "400366f4-9981-43b2-8648-a8e8c999cb9e",
   "metadata": {},
   "outputs": [
    {
     "name": "stdout",
     "output_type": "stream",
     "text": [
      "['the', 'product', 'it', 'is', 'best', 'broke', 'but', 'charm', 'fantastic', 'fine']\n",
      "[3 3 2 1 1 1 1 1 1 1]\n"
     ]
    }
   ],
   "source": [
    "# Get the top 10 words and their counts\n",
    "top_words_with_stopwords, top_counts_with_stopwords = get_top_ten(words, word_counts)\n",
    "\n",
    "# Print the top words and their frequencies\n",
    "print(top_words_with_stopwords)\n",
    "print(top_counts_with_stopwords)"
   ]
  },
  {
   "cell_type": "code",
   "execution_count": 134,
   "id": "c598993a-7d85-428f-8991-3760abfcdbe7",
   "metadata": {},
   "outputs": [
    {
     "data": {
      "image/png": "[encoded data removed]",
      "text/plain": [
       "<Figure size 640x480 with 1 Axes>"
      ]
     },
     "metadata": {},
     "output_type": "display_data"
    }
   ],
   "source": [
    "import matplotlib.pyplot as plt\n",
    "# Plot the frequencies with stop words\n",
    "plt.bar(top_words_with_stopwords, top_counts_with_stopwords)\n",
    "plt.title(\"Top 10 word frequencies (with stop words)\")\n",
    "plt.xlabel(\"Words\")\n",
    "plt.ylabel(\"Frequency\")\n",
    "plt.show()"
   ]
  },
  {
   "cell_type": "code",
   "execution_count": 136,
   "id": "e742b995-faa9-4068-b8ee-384f76e69162",
   "metadata": {},
   "outputs": [],
   "source": [
    "# Term Frequency - Inverse Document Frequency \n",
    "\n",
    "\n",
    "reviews = [\"The smart speaker is incredible. Clear sound and fast responses!\",\n",
    "           \"I am disappointed with the smart bulb. It stopped working in a week.\",\n",
    "           \"The thermostat is okay. Not too smart, but functional.\"]"
   ]
  },
  {
   "cell_type": "code",
   "execution_count": 138,
   "id": "e18e1292-c676-48b1-bd7b-1470e79bcfc3",
   "metadata": {},
   "outputs": [],
   "source": [
    "from sklearn.feature_extraction.text import TfidfVectorizer\n",
    "cleaned_reviews=[preprocess(review) for review in reviews]"
   ]
  },
  {
   "cell_type": "code",
   "execution_count": 142,
   "id": "59c4fa16-ff93-4b81-aafa-9924084eb72b",
   "metadata": {},
   "outputs": [],
   "source": [
    "vectorizer=TfidfVectorizer()\n",
    "\n",
    "tfidf_matrix=vectorizer.fit_transform(cleaned_reviews)"
   ]
  },
  {
   "cell_type": "code",
   "execution_count": 144,
   "id": "bb7bf64a-efc9-46a7-b6ea-3d6192584688",
   "metadata": {},
   "outputs": [
    {
     "data": {
      "text/plain": [
       "<3x25 sparse matrix of type '<class 'numpy.float64'>'\n",
       "\twith 30 stored elements in Compressed Sparse Row format>"
      ]
     },
     "execution_count": 144,
     "metadata": {},
     "output_type": "execute_result"
    }
   ],
   "source": [
    "tfidf_matrix"
   ]
  },
  {
   "cell_type": "code",
   "execution_count": 146,
   "id": "7707a1aa-41d0-4124-8720-31b0162ec070",
   "metadata": {},
   "outputs": [],
   "source": [
    "import pandas as pd"
   ]
  },
  {
   "cell_type": "code",
   "execution_count": 148,
   "id": "34039f79-c21c-473f-a659-19fb9c190c70",
   "metadata": {},
   "outputs": [],
   "source": [
    "df=pd.DataFrame(tfidf_matrix.toarray(),columns=vectorizer.get_feature_names_out())"
   ]
  },
  {
   "cell_type": "code",
   "execution_count": 150,
   "id": "382e5b36-ec99-4120-94dd-72f3b395634b",
   "metadata": {},
   "outputs": [
    {
     "name": "stdout",
     "output_type": "stream",
     "text": [
      "         am       and      bulb       but     clear  disappointed      fast  \\\n",
      "0  0.000000  0.347607  0.000000  0.000000  0.347607      0.000000  0.347607   \n",
      "1  0.321119  0.000000  0.321119  0.000000  0.000000      0.321119  0.000000   \n",
      "2  0.000000  0.000000  0.000000  0.370725  0.000000      0.000000  0.000000   \n",
      "\n",
      "   functional        in  incredible  ...     smart     sound   speaker  \\\n",
      "0    0.000000  0.000000    0.347607  ...  0.205302  0.347607  0.347607   \n",
      "1    0.000000  0.321119    0.000000  ...  0.189658  0.000000  0.000000   \n",
      "2    0.370725  0.000000    0.000000  ...  0.218956  0.000000  0.000000   \n",
      "\n",
      "    stopped       the  thermostat       too      week      with   working  \n",
      "0  0.000000  0.205302    0.000000  0.000000  0.000000  0.000000  0.000000  \n",
      "1  0.321119  0.189658    0.000000  0.000000  0.321119  0.321119  0.321119  \n",
      "2  0.000000  0.218956    0.370725  0.370725  0.000000  0.000000  0.000000  \n",
      "\n",
      "[3 rows x 25 columns]\n"
     ]
    }
   ],
   "source": [
    "print(df.head())"
   ]
  },
  {
   "cell_type": "code",
   "execution_count": 152,
   "id": "ae0c8bff-bb84-44c1-9180-c4e4008930d3",
   "metadata": {},
   "outputs": [
    {
     "ename": "ImportError",
     "evalue": "cannot import name 'triu' from 'scipy.linalg' (C:\\Users\\VICTUS\\anaconda36\\Lib\\site-packages\\scipy\\linalg\\__init__.py)",
     "output_type": "error",
     "traceback": [
      "\u001b[1;31m---------------------------------------------------------------------------\u001b[0m",
      "\u001b[1;31mImportError\u001b[0m                               Traceback (most recent call last)",
      "Cell \u001b[1;32mIn[152], line 1\u001b[0m\n\u001b[1;32m----> 1\u001b[0m \u001b[38;5;28;01mimport\u001b[39;00m \u001b[38;5;21;01mgensim\u001b[39;00m\u001b[38;5;21;01m.\u001b[39;00m\u001b[38;5;21;01mdownloader\u001b[39;00m \u001b[38;5;28;01mas\u001b[39;00m \u001b[38;5;21;01mapi\u001b[39;00m\n",
      "File \u001b[1;32m~\\anaconda36\\Lib\\site-packages\\gensim\\__init__.py:11\u001b[0m\n\u001b[0;32m      7\u001b[0m __version__ \u001b[38;5;241m=\u001b[39m \u001b[38;5;124m'\u001b[39m\u001b[38;5;124m4.3.2\u001b[39m\u001b[38;5;124m'\u001b[39m\n\u001b[0;32m      9\u001b[0m \u001b[38;5;28;01mimport\u001b[39;00m \u001b[38;5;21;01mlogging\u001b[39;00m\n\u001b[1;32m---> 11\u001b[0m \u001b[38;5;28;01mfrom\u001b[39;00m \u001b[38;5;21;01mgensim\u001b[39;00m \u001b[38;5;28;01mimport\u001b[39;00m parsing, corpora, matutils, interfaces, models, similarities, utils  \u001b[38;5;66;03m# noqa:F401\u001b[39;00m\n\u001b[0;32m     14\u001b[0m logger \u001b[38;5;241m=\u001b[39m logging\u001b[38;5;241m.\u001b[39mgetLogger(\u001b[38;5;124m'\u001b[39m\u001b[38;5;124mgensim\u001b[39m\u001b[38;5;124m'\u001b[39m)\n\u001b[0;32m     15\u001b[0m \u001b[38;5;28;01mif\u001b[39;00m \u001b[38;5;129;01mnot\u001b[39;00m logger\u001b[38;5;241m.\u001b[39mhandlers:  \u001b[38;5;66;03m# To ensure reload() doesn't add another one\u001b[39;00m\n",
      "File \u001b[1;32m~\\anaconda36\\Lib\\site-packages\\gensim\\corpora\\__init__.py:6\u001b[0m\n\u001b[0;32m      1\u001b[0m \u001b[38;5;124;03m\"\"\"\u001b[39;00m\n\u001b[0;32m      2\u001b[0m \u001b[38;5;124;03mThis package contains implementations of various streaming corpus I/O format.\u001b[39;00m\n\u001b[0;32m      3\u001b[0m \u001b[38;5;124;03m\"\"\"\u001b[39;00m\n\u001b[0;32m      5\u001b[0m \u001b[38;5;66;03m# bring corpus classes directly into package namespace, to save some typing\u001b[39;00m\n\u001b[1;32m----> 6\u001b[0m \u001b[38;5;28;01mfrom\u001b[39;00m \u001b[38;5;21;01m.\u001b[39;00m\u001b[38;5;21;01mindexedcorpus\u001b[39;00m \u001b[38;5;28;01mimport\u001b[39;00m IndexedCorpus  \u001b[38;5;66;03m# noqa:F401 must appear before the other classes\u001b[39;00m\n\u001b[0;32m      8\u001b[0m \u001b[38;5;28;01mfrom\u001b[39;00m \u001b[38;5;21;01m.\u001b[39;00m\u001b[38;5;21;01mmmcorpus\u001b[39;00m \u001b[38;5;28;01mimport\u001b[39;00m MmCorpus  \u001b[38;5;66;03m# noqa:F401\u001b[39;00m\n\u001b[0;32m      9\u001b[0m \u001b[38;5;28;01mfrom\u001b[39;00m \u001b[38;5;21;01m.\u001b[39;00m\u001b[38;5;21;01mbleicorpus\u001b[39;00m \u001b[38;5;28;01mimport\u001b[39;00m BleiCorpus  \u001b[38;5;66;03m# noqa:F401\u001b[39;00m\n",
      "File \u001b[1;32m~\\anaconda36\\Lib\\site-packages\\gensim\\corpora\\indexedcorpus.py:14\u001b[0m\n\u001b[0;32m     10\u001b[0m \u001b[38;5;28;01mimport\u001b[39;00m \u001b[38;5;21;01mlogging\u001b[39;00m\n\u001b[0;32m     12\u001b[0m \u001b[38;5;28;01mimport\u001b[39;00m \u001b[38;5;21;01mnumpy\u001b[39;00m\n\u001b[1;32m---> 14\u001b[0m \u001b[38;5;28;01mfrom\u001b[39;00m \u001b[38;5;21;01mgensim\u001b[39;00m \u001b[38;5;28;01mimport\u001b[39;00m interfaces, utils\n\u001b[0;32m     16\u001b[0m logger \u001b[38;5;241m=\u001b[39m logging\u001b[38;5;241m.\u001b[39mgetLogger(\u001b[38;5;18m__name__\u001b[39m)\n\u001b[0;32m     19\u001b[0m \u001b[38;5;28;01mclass\u001b[39;00m \u001b[38;5;21;01mIndexedCorpus\u001b[39;00m(interfaces\u001b[38;5;241m.\u001b[39mCorpusABC):\n",
      "File \u001b[1;32m~\\anaconda36\\Lib\\site-packages\\gensim\\interfaces.py:19\u001b[0m\n\u001b[0;32m      7\u001b[0m \u001b[38;5;124;03m\"\"\"Basic interfaces used across the whole Gensim package.\u001b[39;00m\n\u001b[0;32m      8\u001b[0m \n\u001b[0;32m      9\u001b[0m \u001b[38;5;124;03mThese interfaces are used for building corpora, model transformation and similarity queries.\u001b[39;00m\n\u001b[1;32m   (...)\u001b[0m\n\u001b[0;32m     14\u001b[0m \n\u001b[0;32m     15\u001b[0m \u001b[38;5;124;03m\"\"\"\u001b[39;00m\n\u001b[0;32m     17\u001b[0m \u001b[38;5;28;01mimport\u001b[39;00m \u001b[38;5;21;01mlogging\u001b[39;00m\n\u001b[1;32m---> 19\u001b[0m \u001b[38;5;28;01mfrom\u001b[39;00m \u001b[38;5;21;01mgensim\u001b[39;00m \u001b[38;5;28;01mimport\u001b[39;00m utils, matutils\n\u001b[0;32m     22\u001b[0m logger \u001b[38;5;241m=\u001b[39m logging\u001b[38;5;241m.\u001b[39mgetLogger(\u001b[38;5;18m__name__\u001b[39m)\n\u001b[0;32m     25\u001b[0m \u001b[38;5;28;01mclass\u001b[39;00m \u001b[38;5;21;01mCorpusABC\u001b[39;00m(utils\u001b[38;5;241m.\u001b[39mSaveLoad):\n",
      "File \u001b[1;32m~\\anaconda36\\Lib\\site-packages\\gensim\\matutils.py:20\u001b[0m\n\u001b[0;32m     18\u001b[0m \u001b[38;5;28;01mimport\u001b[39;00m \u001b[38;5;21;01mscipy\u001b[39;00m\u001b[38;5;21;01m.\u001b[39;00m\u001b[38;5;21;01msparse\u001b[39;00m\n\u001b[0;32m     19\u001b[0m \u001b[38;5;28;01mfrom\u001b[39;00m \u001b[38;5;21;01mscipy\u001b[39;00m\u001b[38;5;21;01m.\u001b[39;00m\u001b[38;5;21;01mstats\u001b[39;00m \u001b[38;5;28;01mimport\u001b[39;00m entropy\n\u001b[1;32m---> 20\u001b[0m \u001b[38;5;28;01mfrom\u001b[39;00m \u001b[38;5;21;01mscipy\u001b[39;00m\u001b[38;5;21;01m.\u001b[39;00m\u001b[38;5;21;01mlinalg\u001b[39;00m \u001b[38;5;28;01mimport\u001b[39;00m get_blas_funcs, triu\n\u001b[0;32m     21\u001b[0m \u001b[38;5;28;01mfrom\u001b[39;00m \u001b[38;5;21;01mscipy\u001b[39;00m\u001b[38;5;21;01m.\u001b[39;00m\u001b[38;5;21;01mlinalg\u001b[39;00m\u001b[38;5;21;01m.\u001b[39;00m\u001b[38;5;21;01mlapack\u001b[39;00m \u001b[38;5;28;01mimport\u001b[39;00m get_lapack_funcs\n\u001b[0;32m     22\u001b[0m \u001b[38;5;28;01mfrom\u001b[39;00m \u001b[38;5;21;01mscipy\u001b[39;00m\u001b[38;5;21;01m.\u001b[39;00m\u001b[38;5;21;01mspecial\u001b[39;00m \u001b[38;5;28;01mimport\u001b[39;00m psi  \u001b[38;5;66;03m# gamma function utils\u001b[39;00m\n",
      "\u001b[1;31mImportError\u001b[0m: cannot import name 'triu' from 'scipy.linalg' (C:\\Users\\VICTUS\\anaconda36\\Lib\\site-packages\\scipy\\linalg\\__init__.py)"
     ]
    }
   ],
   "source": [
    "import gensim.downloader as api"
   ]
  },
  {
   "cell_type": "code",
   "execution_count": 154,
   "id": "14cf58df-007a-4013-9a81-9b7bbbb24812",
   "metadata": {},
   "outputs": [
    {
     "name": "stdout",
     "output_type": "stream",
     "text": [
      "Requirement already satisfied: gensim in c:\\users\\victus\\anaconda36\\lib\\site-packages (4.3.2)\n",
      "Requirement already satisfied: numpy>=1.18.5 in c:\\users\\victus\\anaconda36\\lib\\site-packages (from gensim) (1.26.4)\n",
      "Requirement already satisfied: scipy>=1.7.0 in c:\\users\\victus\\anaconda36\\lib\\site-packages (from gensim) (1.13.1)\n",
      "Requirement already satisfied: smart-open>=1.8.1 in c:\\users\\victus\\anaconda36\\lib\\site-packages (from gensim) (5.2.1)\n"
     ]
    }
   ],
   "source": [
    "!pip install gensim"
   ]
  },
  {
   "cell_type": "code",
   "execution_count": 156,
   "id": "8b2214d4-c4e5-410b-99dc-0f4ddb06b6a2",
   "metadata": {},
   "outputs": [
    {
     "name": "stdout",
     "output_type": "stream",
     "text": [
      "Requirement already satisfied: scipy in c:\\users\\victus\\anaconda36\\lib\\site-packages (1.13.1)\n",
      "Requirement already satisfied: numpy<2.3,>=1.22.4 in c:\\users\\victus\\anaconda36\\lib\\site-packages (from scipy) (1.26.4)\n"
     ]
    }
   ],
   "source": [
    "!pip install scipy"
   ]
  },
  {
   "cell_type": "code",
   "execution_count": 158,
   "id": "37f1d691-18f7-421d-801e-c43b5b1cccbf",
   "metadata": {},
   "outputs": [
    {
     "ename": "ImportError",
     "evalue": "cannot import name 'triu' from 'scipy.linalg' (C:\\Users\\VICTUS\\anaconda36\\Lib\\site-packages\\scipy\\linalg\\__init__.py)",
     "output_type": "error",
     "traceback": [
      "\u001b[1;31m---------------------------------------------------------------------------\u001b[0m",
      "\u001b[1;31mImportError\u001b[0m                               Traceback (most recent call last)",
      "Cell \u001b[1;32mIn[158], line 1\u001b[0m\n\u001b[1;32m----> 1\u001b[0m \u001b[38;5;28;01mimport\u001b[39;00m \u001b[38;5;21;01mgensim\u001b[39;00m\u001b[38;5;21;01m.\u001b[39;00m\u001b[38;5;21;01mdownloader\u001b[39;00m \u001b[38;5;28;01mas\u001b[39;00m \u001b[38;5;21;01mapi\u001b[39;00m\n",
      "File \u001b[1;32m~\\anaconda36\\Lib\\site-packages\\gensim\\__init__.py:11\u001b[0m\n\u001b[0;32m      7\u001b[0m __version__ \u001b[38;5;241m=\u001b[39m \u001b[38;5;124m'\u001b[39m\u001b[38;5;124m4.3.2\u001b[39m\u001b[38;5;124m'\u001b[39m\n\u001b[0;32m      9\u001b[0m \u001b[38;5;28;01mimport\u001b[39;00m \u001b[38;5;21;01mlogging\u001b[39;00m\n\u001b[1;32m---> 11\u001b[0m \u001b[38;5;28;01mfrom\u001b[39;00m \u001b[38;5;21;01mgensim\u001b[39;00m \u001b[38;5;28;01mimport\u001b[39;00m parsing, corpora, matutils, interfaces, models, similarities, utils  \u001b[38;5;66;03m# noqa:F401\u001b[39;00m\n\u001b[0;32m     14\u001b[0m logger \u001b[38;5;241m=\u001b[39m logging\u001b[38;5;241m.\u001b[39mgetLogger(\u001b[38;5;124m'\u001b[39m\u001b[38;5;124mgensim\u001b[39m\u001b[38;5;124m'\u001b[39m)\n\u001b[0;32m     15\u001b[0m \u001b[38;5;28;01mif\u001b[39;00m \u001b[38;5;129;01mnot\u001b[39;00m logger\u001b[38;5;241m.\u001b[39mhandlers:  \u001b[38;5;66;03m# To ensure reload() doesn't add another one\u001b[39;00m\n",
      "File \u001b[1;32m~\\anaconda36\\Lib\\site-packages\\gensim\\corpora\\__init__.py:6\u001b[0m\n\u001b[0;32m      1\u001b[0m \u001b[38;5;124;03m\"\"\"\u001b[39;00m\n\u001b[0;32m      2\u001b[0m \u001b[38;5;124;03mThis package contains implementations of various streaming corpus I/O format.\u001b[39;00m\n\u001b[0;32m      3\u001b[0m \u001b[38;5;124;03m\"\"\"\u001b[39;00m\n\u001b[0;32m      5\u001b[0m \u001b[38;5;66;03m# bring corpus classes directly into package namespace, to save some typing\u001b[39;00m\n\u001b[1;32m----> 6\u001b[0m \u001b[38;5;28;01mfrom\u001b[39;00m \u001b[38;5;21;01m.\u001b[39;00m\u001b[38;5;21;01mindexedcorpus\u001b[39;00m \u001b[38;5;28;01mimport\u001b[39;00m IndexedCorpus  \u001b[38;5;66;03m# noqa:F401 must appear before the other classes\u001b[39;00m\n\u001b[0;32m      8\u001b[0m \u001b[38;5;28;01mfrom\u001b[39;00m \u001b[38;5;21;01m.\u001b[39;00m\u001b[38;5;21;01mmmcorpus\u001b[39;00m \u001b[38;5;28;01mimport\u001b[39;00m MmCorpus  \u001b[38;5;66;03m# noqa:F401\u001b[39;00m\n\u001b[0;32m      9\u001b[0m \u001b[38;5;28;01mfrom\u001b[39;00m \u001b[38;5;21;01m.\u001b[39;00m\u001b[38;5;21;01mbleicorpus\u001b[39;00m \u001b[38;5;28;01mimport\u001b[39;00m BleiCorpus  \u001b[38;5;66;03m# noqa:F401\u001b[39;00m\n",
      "File \u001b[1;32m~\\anaconda36\\Lib\\site-packages\\gensim\\corpora\\indexedcorpus.py:14\u001b[0m\n\u001b[0;32m     10\u001b[0m \u001b[38;5;28;01mimport\u001b[39;00m \u001b[38;5;21;01mlogging\u001b[39;00m\n\u001b[0;32m     12\u001b[0m \u001b[38;5;28;01mimport\u001b[39;00m \u001b[38;5;21;01mnumpy\u001b[39;00m\n\u001b[1;32m---> 14\u001b[0m \u001b[38;5;28;01mfrom\u001b[39;00m \u001b[38;5;21;01mgensim\u001b[39;00m \u001b[38;5;28;01mimport\u001b[39;00m interfaces, utils\n\u001b[0;32m     16\u001b[0m logger \u001b[38;5;241m=\u001b[39m logging\u001b[38;5;241m.\u001b[39mgetLogger(\u001b[38;5;18m__name__\u001b[39m)\n\u001b[0;32m     19\u001b[0m \u001b[38;5;28;01mclass\u001b[39;00m \u001b[38;5;21;01mIndexedCorpus\u001b[39;00m(interfaces\u001b[38;5;241m.\u001b[39mCorpusABC):\n",
      "File \u001b[1;32m~\\anaconda36\\Lib\\site-packages\\gensim\\interfaces.py:19\u001b[0m\n\u001b[0;32m      7\u001b[0m \u001b[38;5;124;03m\"\"\"Basic interfaces used across the whole Gensim package.\u001b[39;00m\n\u001b[0;32m      8\u001b[0m \n\u001b[0;32m      9\u001b[0m \u001b[38;5;124;03mThese interfaces are used for building corpora, model transformation and similarity queries.\u001b[39;00m\n\u001b[1;32m   (...)\u001b[0m\n\u001b[0;32m     14\u001b[0m \n\u001b[0;32m     15\u001b[0m \u001b[38;5;124;03m\"\"\"\u001b[39;00m\n\u001b[0;32m     17\u001b[0m \u001b[38;5;28;01mimport\u001b[39;00m \u001b[38;5;21;01mlogging\u001b[39;00m\n\u001b[1;32m---> 19\u001b[0m \u001b[38;5;28;01mfrom\u001b[39;00m \u001b[38;5;21;01mgensim\u001b[39;00m \u001b[38;5;28;01mimport\u001b[39;00m utils, matutils\n\u001b[0;32m     22\u001b[0m logger \u001b[38;5;241m=\u001b[39m logging\u001b[38;5;241m.\u001b[39mgetLogger(\u001b[38;5;18m__name__\u001b[39m)\n\u001b[0;32m     25\u001b[0m \u001b[38;5;28;01mclass\u001b[39;00m \u001b[38;5;21;01mCorpusABC\u001b[39;00m(utils\u001b[38;5;241m.\u001b[39mSaveLoad):\n",
      "File \u001b[1;32m~\\anaconda36\\Lib\\site-packages\\gensim\\matutils.py:20\u001b[0m\n\u001b[0;32m     18\u001b[0m \u001b[38;5;28;01mimport\u001b[39;00m \u001b[38;5;21;01mscipy\u001b[39;00m\u001b[38;5;21;01m.\u001b[39;00m\u001b[38;5;21;01msparse\u001b[39;00m\n\u001b[0;32m     19\u001b[0m \u001b[38;5;28;01mfrom\u001b[39;00m \u001b[38;5;21;01mscipy\u001b[39;00m\u001b[38;5;21;01m.\u001b[39;00m\u001b[38;5;21;01mstats\u001b[39;00m \u001b[38;5;28;01mimport\u001b[39;00m entropy\n\u001b[1;32m---> 20\u001b[0m \u001b[38;5;28;01mfrom\u001b[39;00m \u001b[38;5;21;01mscipy\u001b[39;00m\u001b[38;5;21;01m.\u001b[39;00m\u001b[38;5;21;01mlinalg\u001b[39;00m \u001b[38;5;28;01mimport\u001b[39;00m get_blas_funcs, triu\n\u001b[0;32m     21\u001b[0m \u001b[38;5;28;01mfrom\u001b[39;00m \u001b[38;5;21;01mscipy\u001b[39;00m\u001b[38;5;21;01m.\u001b[39;00m\u001b[38;5;21;01mlinalg\u001b[39;00m\u001b[38;5;21;01m.\u001b[39;00m\u001b[38;5;21;01mlapack\u001b[39;00m \u001b[38;5;28;01mimport\u001b[39;00m get_lapack_funcs\n\u001b[0;32m     22\u001b[0m \u001b[38;5;28;01mfrom\u001b[39;00m \u001b[38;5;21;01mscipy\u001b[39;00m\u001b[38;5;21;01m.\u001b[39;00m\u001b[38;5;21;01mspecial\u001b[39;00m \u001b[38;5;28;01mimport\u001b[39;00m psi  \u001b[38;5;66;03m# gamma function utils\u001b[39;00m\n",
      "\u001b[1;31mImportError\u001b[0m: cannot import name 'triu' from 'scipy.linalg' (C:\\Users\\VICTUS\\anaconda36\\Lib\\site-packages\\scipy\\linalg\\__init__.py)"
     ]
    }
   ],
   "source": [
    "import gensim.downloader as api"
   ]
  },
  {
   "cell_type": "code",
   "execution_count": null,
   "id": "253f7066-c736-45fe-9673-b0763b80bab4",
   "metadata": {},
   "outputs": [],
   "source": []
  },
  {
   "cell_type": "code",
   "execution_count": null,
   "id": "68ea684c-8a7a-43ab-9a68-4ce4086fcfff",
   "metadata": {},
   "outputs": [],
   "source": []
  }
 ],
 "metadata": {
  "kernelspec": {
   "display_name": "Python 3 (ipykernel)",
   "language": "python",
   "name": "python3"
  },
  "language_info": {
   "codemirror_mode": {
    "name": "ipython",
    "version": 3
   },
   "file_extension": ".py",
   "mimetype": "text/x-python",
   "name": "python",
   "nbconvert_exporter": "python",
   "pygments_lexer": "ipython3",
   "version": "3.12.3"
  }
 },
 "nbformat": 4,
 "nbformat_minor": 5
}
